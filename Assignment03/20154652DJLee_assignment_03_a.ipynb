{
  "nbformat": 4,
  "nbformat_minor": 0,
  "metadata": {
    "kernelspec": {
      "display_name": "Python 3",
      "language": "python",
      "name": "python3"
    },
    "language_info": {
      "codemirror_mode": {
        "name": "ipython",
        "version": 3
      },
      "file_extension": ".py",
      "mimetype": "text/x-python",
      "name": "python",
      "nbconvert_exporter": "python",
      "pygments_lexer": "ipython3",
      "version": "3.6.8"
    },
    "colab": {
      "name": "20154652DJLee_assignment-03-a.ipynb",
      "provenance": [],
      "collapsed_sections": [],
      "include_colab_link": true
    },
    "accelerator": "GPU"
  },
  "cells": [
    {
      "cell_type": "markdown",
      "metadata": {
        "id": "view-in-github",
        "colab_type": "text"
      },
      "source": [
        "<a href=\"https://colab.research.google.com/github/DJLee68/PL_Project/blob/master/Assignment03/20154652DJLee_assignment_03_a.ipynb\" target=\"_parent\"><img src=\"https://colab.research.google.com/assets/colab-badge.svg\" alt=\"Open In Colab\"/></a>"
      ]
    },
    {
      "cell_type": "markdown",
      "metadata": {
        "id": "cElHISmiGAJD",
        "colab_type": "text"
      },
      "source": [
        "# Manipulate PyTorch Tensors\n",
        "<hr>\n",
        "\n",
        "## Matrix manipulation"
      ]
    },
    {
      "cell_type": "code",
      "metadata": {
        "id": "hGzonsHQGAJE",
        "colab_type": "code",
        "colab": {}
      },
      "source": [
        "import torch"
      ],
      "execution_count": 14,
      "outputs": []
    },
    {
      "cell_type": "markdown",
      "metadata": {
        "id": "Sm2Cj907GAJG",
        "colab_type": "text"
      },
      "source": [
        "### Make the matrices A and B below. Add them together to obtain a matrix C. Print these three matrices.\n",
        "$$\n",
        "A =\\begin{bmatrix}\n",
        "1 & 2 \\\\ 3 & 4\n",
        "\\end{bmatrix}  \n",
        "\\qquad \n",
        "B =\\begin{bmatrix}\n",
        "10 & 20 \\\\ 30 & 40\n",
        "\\end{bmatrix}  \\qquad C=A+B =?\n",
        "$$"
      ]
    },
    {
      "cell_type": "code",
      "metadata": {
        "id": "glz1hlb7GAJH",
        "colab_type": "code",
        "colab": {
          "base_uri": "https://localhost:8080/",
          "height": 153
        },
        "outputId": "fb8a6bf8-c2fe-45b8-b80e-6b0ff9e0dba7"
      },
      "source": [
        "\n",
        "# write your code here\n",
        "\n",
        "A = torch.tensor([\n",
        "                  [1,2],\n",
        "                  [3,4]\n",
        "], dtype=torch.int32)\n",
        "B = torch.tensor([\n",
        "                  [10,20],\n",
        "                  [30,40]\n",
        "], dtype=torch.int32)\n",
        "C = torch.add(A, B)\n",
        "\n",
        "# print\n",
        "print(A)\n",
        "print('')\n",
        "print(B)\n",
        "print('')\n",
        "print(C)"
      ],
      "execution_count": 15,
      "outputs": [
        {
          "output_type": "stream",
          "text": [
            "tensor([[1, 2],\n",
            "        [3, 4]], dtype=torch.int32)\n",
            "\n",
            "tensor([[10, 20],\n",
            "        [30, 40]], dtype=torch.int32)\n",
            "\n",
            "tensor([[11, 22],\n",
            "        [33, 44]], dtype=torch.int32)\n"
          ],
          "name": "stdout"
        }
      ]
    },
    {
      "cell_type": "markdown",
      "metadata": {
        "id": "D2MFMhmcGAJJ",
        "colab_type": "text"
      },
      "source": [
        "### Print the dimension, size and type of the matrix A. Remember, the commands are dim(), size() and type()"
      ]
    },
    {
      "cell_type": "code",
      "metadata": {
        "id": "f8PS8ukAGAJK",
        "colab_type": "code",
        "colab": {
          "base_uri": "https://localhost:8080/",
          "height": 102
        },
        "outputId": "decf4515-0375-4cf4-8938-30b8ddcc08f7"
      },
      "source": [
        "\n",
        "# write your code here\n",
        "\n",
        "print(A.dim())    # print the dimension of the matrix A\n",
        "print('')\n",
        "print(A.size())    # print the size of the matrix A\n",
        "print('')\n",
        "print(A.type())    # print the type of the matrix A"
      ],
      "execution_count": 16,
      "outputs": [
        {
          "output_type": "stream",
          "text": [
            "2\n",
            "\n",
            "torch.Size([2, 2])\n",
            "\n",
            "torch.IntTensor\n"
          ],
          "name": "stdout"
        }
      ]
    },
    {
      "cell_type": "markdown",
      "metadata": {
        "id": "z9n6HTJvGAJM",
        "colab_type": "text"
      },
      "source": [
        "### Convert the matrix A to be an integer matrix  (type LongTensor). Remember, the command is long(). Then print the type to check it was indeed converted."
      ]
    },
    {
      "cell_type": "code",
      "metadata": {
        "id": "ZX-6LNkwGAJN",
        "colab_type": "code",
        "colab": {
          "base_uri": "https://localhost:8080/",
          "height": 68
        },
        "outputId": "5879ad53-7011-409b-fbd0-0be5c6c53acb"
      },
      "source": [
        "\n",
        "# write your code here\n",
        "\n",
        "A_long = A.long()\n",
        "\n",
        "print(A_long.type())    # print the type of A_long\n",
        "print('')\n",
        "print(A.type())    # print the type of A"
      ],
      "execution_count": 17,
      "outputs": [
        {
          "output_type": "stream",
          "text": [
            "torch.LongTensor\n",
            "\n",
            "torch.IntTensor\n"
          ],
          "name": "stdout"
        }
      ]
    },
    {
      "cell_type": "markdown",
      "metadata": {
        "id": "14ogcBBjGAJQ",
        "colab_type": "text"
      },
      "source": [
        "### Make a random 5 x 2 x 3 Tensor. The command is torch.rand.  Then do the following:   1) Print the tensor,  2) Print its type, 3) Print its dimension,  4) Print its size, 5) Print the size of its middle dimension."
      ]
    },
    {
      "cell_type": "code",
      "metadata": {
        "id": "l8UTw2MMGAJQ",
        "colab_type": "code",
        "colab": {
          "base_uri": "https://localhost:8080/",
          "height": 323
        },
        "outputId": "591e0df9-0c3f-4d74-c1dd-5b6e2e4e4597"
      },
      "source": [
        "\n",
        "# write your code here\n",
        "\n",
        "A = torch.rand(5,2,3)\n",
        "\n",
        "print(A)\n",
        "print(A.type())    # print the type of A\n",
        "print(A.dim())    # print the dimension of A\n",
        "print(A.size())    # print the size of A\n",
        "print(A.size()[1])    # print the size of the middle (second) dimension"
      ],
      "execution_count": 18,
      "outputs": [
        {
          "output_type": "stream",
          "text": [
            "tensor([[[0.3645, 0.1433, 0.8571],\n",
            "         [0.0463, 0.3748, 0.7066]],\n",
            "\n",
            "        [[0.1150, 0.8077, 0.4308],\n",
            "         [0.8483, 0.6448, 0.4286]],\n",
            "\n",
            "        [[0.8980, 0.8588, 0.7806],\n",
            "         [0.8119, 0.3389, 0.9791]],\n",
            "\n",
            "        [[0.7925, 0.7047, 0.8693],\n",
            "         [0.3110, 0.7259, 0.1317]],\n",
            "\n",
            "        [[0.2784, 0.7464, 0.5447],\n",
            "         [0.3334, 0.2394, 0.5406]]])\n",
            "torch.FloatTensor\n",
            "3\n",
            "torch.Size([5, 2, 3])\n",
            "2\n"
          ],
          "name": "stdout"
        }
      ]
    },
    {
      "cell_type": "markdown",
      "metadata": {
        "id": "_tvb2nitGAJT",
        "colab_type": "text"
      },
      "source": [
        "### Make 2 x 3 x 4 x 5 tensor filled with zeros then print it. (The command is torch.zeros). See if you can make sense of the display."
      ]
    },
    {
      "cell_type": "code",
      "metadata": {
        "id": "3rh0nEQ5GAJT",
        "colab_type": "code",
        "colab": {
          "base_uri": "https://localhost:8080/",
          "height": 527
        },
        "outputId": "fc41feed-161d-47c5-eb95-6f3da89f9760"
      },
      "source": [
        "\n",
        "# write your code here\n",
        "\n",
        "A = torch.zeros(2,3,4,5)\n",
        "\n",
        "print(A)\n"
      ],
      "execution_count": 19,
      "outputs": [
        {
          "output_type": "stream",
          "text": [
            "tensor([[[[0., 0., 0., 0., 0.],\n",
            "          [0., 0., 0., 0., 0.],\n",
            "          [0., 0., 0., 0., 0.],\n",
            "          [0., 0., 0., 0., 0.]],\n",
            "\n",
            "         [[0., 0., 0., 0., 0.],\n",
            "          [0., 0., 0., 0., 0.],\n",
            "          [0., 0., 0., 0., 0.],\n",
            "          [0., 0., 0., 0., 0.]],\n",
            "\n",
            "         [[0., 0., 0., 0., 0.],\n",
            "          [0., 0., 0., 0., 0.],\n",
            "          [0., 0., 0., 0., 0.],\n",
            "          [0., 0., 0., 0., 0.]]],\n",
            "\n",
            "\n",
            "        [[[0., 0., 0., 0., 0.],\n",
            "          [0., 0., 0., 0., 0.],\n",
            "          [0., 0., 0., 0., 0.],\n",
            "          [0., 0., 0., 0., 0.]],\n",
            "\n",
            "         [[0., 0., 0., 0., 0.],\n",
            "          [0., 0., 0., 0., 0.],\n",
            "          [0., 0., 0., 0., 0.],\n",
            "          [0., 0., 0., 0., 0.]],\n",
            "\n",
            "         [[0., 0., 0., 0., 0.],\n",
            "          [0., 0., 0., 0., 0.],\n",
            "          [0., 0., 0., 0., 0.],\n",
            "          [0., 0., 0., 0., 0.]]]])\n"
          ],
          "name": "stdout"
        }
      ]
    },
    {
      "cell_type": "code",
      "metadata": {
        "id": "ss6POugTJeXR",
        "colab_type": "code",
        "colab": {}
      },
      "source": [
        ""
      ],
      "execution_count": 19,
      "outputs": []
    }
  ]
}